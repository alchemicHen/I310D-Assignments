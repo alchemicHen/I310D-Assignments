{
 "cells": [
  {
   "cell_type": "markdown",
   "metadata": {},
   "source": [
    "Content warning: the Perspective API is designed for use in content moderation, and the dataset contained very “toxic” comments. Some of the comments in this dataset are racist, sexist, ableist, and offensive. Some comments contain profane language. The particular analysis in the dataset is of high scoring and thus comments considered toxic.\n",
    "\n",
    "This is a notebook for the exploration, bias testing, and analysis of the Perspective API."
   ]
  },
  {
   "cell_type": "code",
   "execution_count": 23,
   "metadata": {},
   "outputs": [
    {
     "name": "stderr",
     "output_type": "stream",
     "text": [
      "[nltk_data] Downloading package stopwords to\n",
      "[nltk_data]     C:\\Users\\micha\\AppData\\Roaming\\nltk_data...\n",
      "[nltk_data]   Package stopwords is already up-to-date!\n"
     ]
    }
   ],
   "source": [
    "import pandas as pd\n",
    "import matplotlib.pyplot as plt\n",
    "import seaborn as sns\n",
    "import numpy as np\n",
    "import nltk\n",
    "from nltk.corpus import stopwords\n",
    "nltk.download('stopwords')\n",
    "from nltk.tokenize import word_tokenize\n",
    "import time\n",
    "from tqdm import tqdm"
   ]
  },
  {
   "cell_type": "markdown",
   "metadata": {},
   "source": [
    "Done importing."
   ]
  },
  {
   "cell_type": "code",
   "execution_count": 3,
   "metadata": {},
   "outputs": [
    {
     "data": {
      "text/html": [
       "<div>\n",
       "<style scoped>\n",
       "    .dataframe tbody tr th:only-of-type {\n",
       "        vertical-align: middle;\n",
       "    }\n",
       "\n",
       "    .dataframe tbody tr th {\n",
       "        vertical-align: top;\n",
       "    }\n",
       "\n",
       "    .dataframe thead th {\n",
       "        text-align: right;\n",
       "    }\n",
       "</style>\n",
       "<table border=\"1\" class=\"dataframe\">\n",
       "  <thead>\n",
       "    <tr style=\"text-align: right;\">\n",
       "      <th></th>\n",
       "      <th>id</th>\n",
       "      <th>comment_text</th>\n",
       "      <th>score</th>\n",
       "      <th>toxic</th>\n",
       "      <th>severe_toxic</th>\n",
       "      <th>obscene</th>\n",
       "      <th>threat</th>\n",
       "      <th>insult</th>\n",
       "      <th>identity_hate</th>\n",
       "    </tr>\n",
       "  </thead>\n",
       "  <tbody>\n",
       "    <tr>\n",
       "      <th>0</th>\n",
       "      <td>0001ea8717f6de06</td>\n",
       "      <td>Thank you for understanding. I think very high...</td>\n",
       "      <td>0.075638</td>\n",
       "      <td>0</td>\n",
       "      <td>0</td>\n",
       "      <td>0</td>\n",
       "      <td>0</td>\n",
       "      <td>0</td>\n",
       "      <td>0</td>\n",
       "    </tr>\n",
       "    <tr>\n",
       "      <th>1</th>\n",
       "      <td>000247e83dcc1211</td>\n",
       "      <td>:Dear god this site is horrible.</td>\n",
       "      <td>0.450459</td>\n",
       "      <td>0</td>\n",
       "      <td>0</td>\n",
       "      <td>0</td>\n",
       "      <td>0</td>\n",
       "      <td>0</td>\n",
       "      <td>0</td>\n",
       "    </tr>\n",
       "    <tr>\n",
       "      <th>2</th>\n",
       "      <td>0002f87b16116a7f</td>\n",
       "      <td>\"::: Somebody will invariably try to add Relig...</td>\n",
       "      <td>0.667964</td>\n",
       "      <td>0</td>\n",
       "      <td>0</td>\n",
       "      <td>0</td>\n",
       "      <td>0</td>\n",
       "      <td>0</td>\n",
       "      <td>0</td>\n",
       "    </tr>\n",
       "    <tr>\n",
       "      <th>3</th>\n",
       "      <td>0003e1cccfd5a40a</td>\n",
       "      <td>\" \\n\\n It says it right there that it IS a typ...</td>\n",
       "      <td>0.068434</td>\n",
       "      <td>0</td>\n",
       "      <td>0</td>\n",
       "      <td>0</td>\n",
       "      <td>0</td>\n",
       "      <td>0</td>\n",
       "      <td>0</td>\n",
       "    </tr>\n",
       "    <tr>\n",
       "      <th>4</th>\n",
       "      <td>00059ace3e3e9a53</td>\n",
       "      <td>\" \\n\\n == Before adding a new product to the l...</td>\n",
       "      <td>0.151724</td>\n",
       "      <td>0</td>\n",
       "      <td>0</td>\n",
       "      <td>0</td>\n",
       "      <td>0</td>\n",
       "      <td>0</td>\n",
       "      <td>0</td>\n",
       "    </tr>\n",
       "    <tr>\n",
       "      <th>...</th>\n",
       "      <td>...</td>\n",
       "      <td>...</td>\n",
       "      <td>...</td>\n",
       "      <td>...</td>\n",
       "      <td>...</td>\n",
       "      <td>...</td>\n",
       "      <td>...</td>\n",
       "      <td>...</td>\n",
       "      <td>...</td>\n",
       "    </tr>\n",
       "    <tr>\n",
       "      <th>41333</th>\n",
       "      <td>9480bff99f91a69e</td>\n",
       "      <td>Lesbian Teenager \\nHow about the fact she was ...</td>\n",
       "      <td>0.797672</td>\n",
       "      <td>1</td>\n",
       "      <td>0</td>\n",
       "      <td>0</td>\n",
       "      <td>0</td>\n",
       "      <td>0</td>\n",
       "      <td>0</td>\n",
       "    </tr>\n",
       "    <tr>\n",
       "      <th>41334</th>\n",
       "      <td>9480115b93762c35</td>\n",
       "      <td>Crack, also called cocaine is very good for yo...</td>\n",
       "      <td>0.240977</td>\n",
       "      <td>0</td>\n",
       "      <td>0</td>\n",
       "      <td>0</td>\n",
       "      <td>0</td>\n",
       "      <td>0</td>\n",
       "      <td>0</td>\n",
       "    </tr>\n",
       "    <tr>\n",
       "      <th>41335</th>\n",
       "      <td>947f206c14a85d9d</td>\n",
       "      <td>REDIRECT Talk:The Test (The O.C.)</td>\n",
       "      <td>0.012671</td>\n",
       "      <td>0</td>\n",
       "      <td>0</td>\n",
       "      <td>0</td>\n",
       "      <td>0</td>\n",
       "      <td>0</td>\n",
       "      <td>0</td>\n",
       "    </tr>\n",
       "    <tr>\n",
       "      <th>41336</th>\n",
       "      <td>947e3f5f2d613605</td>\n",
       "      <td>A question concerning your edit to my user-pag...</td>\n",
       "      <td>0.227474</td>\n",
       "      <td>0</td>\n",
       "      <td>0</td>\n",
       "      <td>0</td>\n",
       "      <td>0</td>\n",
       "      <td>0</td>\n",
       "      <td>0</td>\n",
       "    </tr>\n",
       "    <tr>\n",
       "      <th>41337</th>\n",
       "      <td>94768f82798de227</td>\n",
       "      <td>Cited sources? I looked in Category:Abnormal p...</td>\n",
       "      <td>0.341041</td>\n",
       "      <td>0</td>\n",
       "      <td>0</td>\n",
       "      <td>0</td>\n",
       "      <td>0</td>\n",
       "      <td>0</td>\n",
       "      <td>0</td>\n",
       "    </tr>\n",
       "  </tbody>\n",
       "</table>\n",
       "<p>41338 rows × 9 columns</p>\n",
       "</div>"
      ],
      "text/plain": [
       "                     id                                       comment_text  \\\n",
       "0      0001ea8717f6de06  Thank you for understanding. I think very high...   \n",
       "1      000247e83dcc1211                   :Dear god this site is horrible.   \n",
       "2      0002f87b16116a7f  \"::: Somebody will invariably try to add Relig...   \n",
       "3      0003e1cccfd5a40a  \" \\n\\n It says it right there that it IS a typ...   \n",
       "4      00059ace3e3e9a53  \" \\n\\n == Before adding a new product to the l...   \n",
       "...                 ...                                                ...   \n",
       "41333  9480bff99f91a69e  Lesbian Teenager \\nHow about the fact she was ...   \n",
       "41334  9480115b93762c35  Crack, also called cocaine is very good for yo...   \n",
       "41335  947f206c14a85d9d                  REDIRECT Talk:The Test (The O.C.)   \n",
       "41336  947e3f5f2d613605  A question concerning your edit to my user-pag...   \n",
       "41337  94768f82798de227  Cited sources? I looked in Category:Abnormal p...   \n",
       "\n",
       "          score  toxic  severe_toxic  obscene  threat  insult  identity_hate  \n",
       "0      0.075638      0             0        0       0       0              0  \n",
       "1      0.450459      0             0        0       0       0              0  \n",
       "2      0.667964      0             0        0       0       0              0  \n",
       "3      0.068434      0             0        0       0       0              0  \n",
       "4      0.151724      0             0        0       0       0              0  \n",
       "...         ...    ...           ...      ...     ...     ...            ...  \n",
       "41333  0.797672      1             0        0       0       0              0  \n",
       "41334  0.240977      0             0        0       0       0              0  \n",
       "41335  0.012671      0             0        0       0       0              0  \n",
       "41336  0.227474      0             0        0       0       0              0  \n",
       "41337  0.341041      0             0        0       0       0              0  \n",
       "\n",
       "[41338 rows x 9 columns]"
      ]
     },
     "execution_count": 3,
     "metadata": {},
     "output_type": "execute_result"
    }
   ],
   "source": [
    "comments_df = pd.read_csv('labeled_and_scored_comments.csv')\n",
    "comments_df.head()"
   ]
  },
  {
   "cell_type": "markdown",
   "metadata": {},
   "source": [
    "Exploring the dataset:"
   ]
  },
  {
   "cell_type": "code",
   "execution_count": 11,
   "metadata": {},
   "outputs": [
    {
     "data": {
      "text/plain": [
       "<AxesSubplot:>"
      ]
     },
     "execution_count": 11,
     "metadata": {},
     "output_type": "execute_result"
    },
    {
     "data": {
      "image/png": "[encoded data removed]",
      "text/plain": [
       "<Figure size 432x288 with 2 Axes>"
      ]
     },
     "metadata": {
      "needs_background": "light"
     },
     "output_type": "display_data"
    }
   ],
   "source": [
    "#Selecting all columns besides the text and id\n",
    "corr_df = comments_df.iloc[:, 2:9]\n",
    "corr = corr_df.corr()\n",
    "\n",
    "matrix = np.triu(corr)\n",
    "sns.heatmap(corr, annot=True, mask=matrix)"
   ]
  },
  {
   "cell_type": "markdown",
   "metadata": {},
   "source": [
    "Interesting relationships to consider testing:\n",
    "- Score's relationship with tags: seems to make intuitive sense since a higher score and thus toxic comment should have more tags.\n",
    "- Toxic and obscene/insult tags: also makes intuitive sense because toxic comments are likely to also be tagged as those tags.\n",
    "- Why does the threat tag have so little correlation with the other tags? Is it because of sample size?"
   ]
  },
  {
   "cell_type": "markdown",
   "metadata": {},
   "source": [
    "Next, going to parse through the text for the most common words used in each tag."
   ]
  },
  {
   "cell_type": "code",
   "execution_count": 14,
   "metadata": {},
   "outputs": [
    {
     "name": "stdout",
     "output_type": "stream",
     "text": [
      "0.310894    476\n",
      "0.515460    163\n",
      "0.534903    144\n",
      "0.695427    141\n",
      "0.860626    141\n",
      "           ... \n",
      "0.083869      1\n",
      "0.325597      1\n",
      "0.098854      1\n",
      "0.271365      1\n",
      "0.209748      1\n",
      "Name: score, Length: 39108, dtype: int64\n",
      "0    37395\n",
      "1     3943\n",
      "Name: toxic, dtype: int64\n",
      "0    40959\n",
      "1      379\n",
      "Name: severe_toxic, dtype: int64\n",
      "0    39145\n",
      "1     2193\n",
      "Name: obscene, dtype: int64\n",
      "0    41213\n",
      "1      125\n",
      "Name: threat, dtype: int64\n",
      "0    39279\n",
      "1     2059\n",
      "Name: insult, dtype: int64\n",
      "0    40936\n",
      "1      402\n",
      "Name: identity_hate, dtype: int64\n"
     ]
    }
   ],
   "source": [
    "for col in corr_df.columns:\n",
    "    print(corr_df[col].value_counts())"
   ]
  },
  {
   "cell_type": "markdown",
   "metadata": {},
   "source": [
    "The toxic, obscene, and insult tag seem to have the most messages labeled as so. This also can explain part of the reason as to the threat tag has so little correlation with the rest of the values: there are only 125 entries labeled as so. "
   ]
  },
  {
   "cell_type": "code",
   "execution_count": 24,
   "metadata": {},
   "outputs": [
    {
     "name": "stderr",
     "output_type": "stream",
     "text": [
      "100%|██████████| 41338/41338 [00:29<00:00, 1397.78it/s]\n",
      "C:\\Users\\micha\\AppData\\Local\\Temp\\ipykernel_6856\\2868675213.py:20: SettingWithCopyWarning: \n",
      "A value is trying to be set on a copy of a slice from a DataFrame.\n",
      "Try using .loc[row_indexer,col_indexer] = value instead\n",
      "\n",
      "See the caveats in the documentation: https://pandas.pydata.org/pandas-docs/stable/user_guide/indexing.html#returning-a-view-versus-a-copy\n",
      "  count_df['comment_text'] = cleaned_text\n"
     ]
    },
    {
     "data": {
      "text/html": [
       "<div>\n",
       "<style scoped>\n",
       "    .dataframe tbody tr th:only-of-type {\n",
       "        vertical-align: middle;\n",
       "    }\n",
       "\n",
       "    .dataframe tbody tr th {\n",
       "        vertical-align: top;\n",
       "    }\n",
       "\n",
       "    .dataframe thead th {\n",
       "        text-align: right;\n",
       "    }\n",
       "</style>\n",
       "<table border=\"1\" class=\"dataframe\">\n",
       "  <thead>\n",
       "    <tr style=\"text-align: right;\">\n",
       "      <th></th>\n",
       "      <th>comment_text</th>\n",
       "      <th>score</th>\n",
       "      <th>toxic</th>\n",
       "      <th>obscene</th>\n",
       "      <th>insult</th>\n",
       "    </tr>\n",
       "  </thead>\n",
       "  <tbody>\n",
       "    <tr>\n",
       "      <th>0</th>\n",
       "      <td>Thank understanding . I think highly would rev...</td>\n",
       "      <td>0.075638</td>\n",
       "      <td>0</td>\n",
       "      <td>0</td>\n",
       "      <td>0</td>\n",
       "    </tr>\n",
       "    <tr>\n",
       "      <th>1</th>\n",
       "      <td>: Dear god site horrible .</td>\n",
       "      <td>0.450459</td>\n",
       "      <td>0</td>\n",
       "      <td>0</td>\n",
       "      <td>0</td>\n",
       "    </tr>\n",
       "    <tr>\n",
       "      <th>2</th>\n",
       "      <td>`` : : : Somebody invariably try add Religion ...</td>\n",
       "      <td>0.667964</td>\n",
       "      <td>0</td>\n",
       "      <td>0</td>\n",
       "      <td>0</td>\n",
       "    </tr>\n",
       "    <tr>\n",
       "      <th>3</th>\n",
       "      <td>`` It says right IS type . The `` '' Type '' '...</td>\n",
       "      <td>0.068434</td>\n",
       "      <td>0</td>\n",
       "      <td>0</td>\n",
       "      <td>0</td>\n",
       "    </tr>\n",
       "    <tr>\n",
       "      <th>4</th>\n",
       "      <td>`` == Before adding new product list , make su...</td>\n",
       "      <td>0.151724</td>\n",
       "      <td>0</td>\n",
       "      <td>0</td>\n",
       "      <td>0</td>\n",
       "    </tr>\n",
       "    <tr>\n",
       "      <th>...</th>\n",
       "      <td>...</td>\n",
       "      <td>...</td>\n",
       "      <td>...</td>\n",
       "      <td>...</td>\n",
       "      <td>...</td>\n",
       "    </tr>\n",
       "    <tr>\n",
       "      <th>41333</th>\n",
       "      <td>Lesbian Teenager How fact lesbian teenaged yea...</td>\n",
       "      <td>0.797672</td>\n",
       "      <td>1</td>\n",
       "      <td>0</td>\n",
       "      <td>0</td>\n",
       "    </tr>\n",
       "    <tr>\n",
       "      <th>41334</th>\n",
       "      <td>Crack , also called cocaine good , say young t...</td>\n",
       "      <td>0.240977</td>\n",
       "      <td>0</td>\n",
       "      <td>0</td>\n",
       "      <td>0</td>\n",
       "    </tr>\n",
       "    <tr>\n",
       "      <th>41335</th>\n",
       "      <td>REDIRECT Talk : The Test ( The O.C . )</td>\n",
       "      <td>0.012671</td>\n",
       "      <td>0</td>\n",
       "      <td>0</td>\n",
       "      <td>0</td>\n",
       "    </tr>\n",
       "    <tr>\n",
       "      <th>41336</th>\n",
       "      <td>A question concerning edit user-page I 'm afra...</td>\n",
       "      <td>0.227474</td>\n",
       "      <td>0</td>\n",
       "      <td>0</td>\n",
       "      <td>0</td>\n",
       "    </tr>\n",
       "    <tr>\n",
       "      <th>41337</th>\n",
       "      <td>Cited sources ? I looked Category : Abnormal p...</td>\n",
       "      <td>0.341041</td>\n",
       "      <td>0</td>\n",
       "      <td>0</td>\n",
       "      <td>0</td>\n",
       "    </tr>\n",
       "  </tbody>\n",
       "</table>\n",
       "<p>41338 rows × 5 columns</p>\n",
       "</div>"
      ],
      "text/plain": [
       "                                            comment_text     score  toxic  \\\n",
       "0      Thank understanding . I think highly would rev...  0.075638      0   \n",
       "1                             : Dear god site horrible .  0.450459      0   \n",
       "2      `` : : : Somebody invariably try add Religion ...  0.667964      0   \n",
       "3      `` It says right IS type . The `` '' Type '' '...  0.068434      0   \n",
       "4      `` == Before adding new product list , make su...  0.151724      0   \n",
       "...                                                  ...       ...    ...   \n",
       "41333  Lesbian Teenager How fact lesbian teenaged yea...  0.797672      1   \n",
       "41334  Crack , also called cocaine good , say young t...  0.240977      0   \n",
       "41335             REDIRECT Talk : The Test ( The O.C . )  0.012671      0   \n",
       "41336  A question concerning edit user-page I 'm afra...  0.227474      0   \n",
       "41337  Cited sources ? I looked Category : Abnormal p...  0.341041      0   \n",
       "\n",
       "       obscene  insult  \n",
       "0            0       0  \n",
       "1            0       0  \n",
       "2            0       0  \n",
       "3            0       0  \n",
       "4            0       0  \n",
       "...        ...     ...  \n",
       "41333        0       0  \n",
       "41334        0       0  \n",
       "41335        0       0  \n",
       "41336        0       0  \n",
       "41337        0       0  \n",
       "\n",
       "[41338 rows x 5 columns]"
      ]
     },
     "execution_count": 24,
     "metadata": {},
     "output_type": "execute_result"
    }
   ],
   "source": [
    "count_df = comments_df[['comment_text', 'score', 'toxic', 'obscene', 'insult']]\n",
    "\n",
    "#Removing stopwords\n",
    "def remove_stopwords(text):\n",
    "    stop_words = set(stopwords.words('english'))\n",
    "    word_tokens = word_tokenize(text)\n",
    "    \n",
    "    new_comment = []\n",
    "    for word in word_tokens:\n",
    "        if word not in stop_words:\n",
    "            new_comment.append(word)\n",
    "    \n",
    "    return(\" \".join(new_comment))\n",
    "\n",
    "cleaned_text = []\n",
    "for comment in tqdm(count_df['comment_text']):\n",
    "    cleaned_comment = remove_stopwords(comment)\n",
    "    cleaned_text.append(cleaned_comment)\n",
    "\n",
    "count_df['comment_text'] = cleaned_text\n",
    "count_df"
   ]
  },
  {
   "cell_type": "markdown",
   "metadata": {},
   "source": [
    "Now that the text has been cleaned, to find the words used in each particular tag, dictionaries will be created. There will also be a dictionary created for comments with high score. In this case, the threshold for a high score will be a comment with a score of >0.5."
   ]
  },
  {
   "cell_type": "code",
   "execution_count": 43,
   "metadata": {},
   "outputs": [
    {
     "data": {
      "text/plain": [
       "[('!', 19271),\n",
       " ('.', 17547),\n",
       " (',', 15934),\n",
       " (\"''\", 8869),\n",
       " ('I', 8764),\n",
       " ('``', 5091),\n",
       " ('?', 3942),\n",
       " (':', 2650),\n",
       " (\"n't\", 2644),\n",
       " ('YOU', 2571),\n",
       " (\"'s\", 2489),\n",
       " ('You', 2299),\n",
       " (')', 2131),\n",
       " ('FUCK', 1951),\n",
       " ('(', 1876),\n",
       " ('like', 1361),\n",
       " ('fuck', 1328),\n",
       " ('==', 1192),\n",
       " ('page', 1068),\n",
       " ('A', 1028),\n",
       " ('article', 992),\n",
       " ('The', 976),\n",
       " ('people', 969),\n",
       " ('know', 963),\n",
       " ('*', 901),\n",
       " ('...', 893),\n",
       " ('-', 845),\n",
       " ('Wikipedia', 837),\n",
       " ('get', 811),\n",
       " ('one', 801),\n",
       " ('ALL', 794),\n",
       " (\"'m\", 782),\n",
       " (\"'re\", 773),\n",
       " ('It', 752),\n",
       " ('would', 746),\n",
       " ('AIDS', 746),\n",
       " ('Nipple', 709),\n",
       " (\"'\", 685),\n",
       " ('stupid', 683),\n",
       " ('MY', 654),\n",
       " ('think', 647),\n",
       " ('fucksex', 624),\n",
       " ('sucks', 621),\n",
       " ('teabag', 620),\n",
       " ('hate', 616),\n",
       " ('OF', 600),\n",
       " ('ARE', 581),\n",
       " ('FREEDOM', 575),\n",
       " ('want', 569),\n",
       " ('time', 567)]"
      ]
     },
     "execution_count": 43,
     "metadata": {},
     "output_type": "execute_result"
    }
   ],
   "source": [
    "#Creating dictionaries of the words used.\n",
    "\n",
    "def getDict(df, column):\n",
    "    count_dict = {}\n",
    "    if column == 'score':\n",
    "        for comment in df[df[column] > 0.5]['comment_text']:\n",
    "            commentList = comment.split()\n",
    "            for word in commentList:\n",
    "                if word in count_dict:\n",
    "                    count_dict[word] += 1\n",
    "                else:\n",
    "                    count_dict[word] = 1\n",
    "    else:\n",
    "        for comment in df[df[column] == 1]['comment_text']:\n",
    "            commentList = comment.split()\n",
    "            for word in commentList:\n",
    "                if word in count_dict:\n",
    "                    count_dict[word] += 1\n",
    "                else:\n",
    "                    count_dict[word] = 1\n",
    "            \n",
    "    sorted_dict = sorted(count_dict.items(), key=lambda x: x[1], reverse=True)\n",
    "    return sorted_dict\n",
    "\n",
    "toxic_dict = getDict(count_df, 'toxic')\n",
    "obscene_dict = getDict(count_df, 'obscene')\n",
    "insult_dict = getDict(count_df, 'insult')\n",
    "score_dict = getDict(count_df, 'score')\n",
    "\n",
    "score_dict[:50]"
   ]
  },
  {
   "cell_type": "markdown",
   "metadata": {},
   "source": [
    "A brief inspection of the dictionaries reveals that there are some similarities between them. For example, although there is punctuation and single letters sneaking into the top, words that seem to be consistently tagged are \"fuck\" and \"you\". Although the word \"you\" doesn't carry any negative sentiment by itself, it is likely often used in conjunction with \"fuck\". This indicates that the Perspective API considers how words in context, which makes it more tuned to natural human speech. \n",
    "\n",
    "However, the `score_dict` also has some seemingly neutral words. This is likely because of the threshold set for the score in the dictionary creation: only comments that had a score of >0.5 were selected. This indicates that around that score threshold, the automatic scoring of Perspective may be making errors when considering some comments to have higher polarity than they truly do."
   ]
  },
  {
   "cell_type": "markdown",
   "metadata": {},
   "source": [
    "To test for bias, the Perspective API will be queried for words in `toxic_dict` and `score_dict` to see if they carry a similar amount of polarity. \n",
    "\n",
    "A brief hypothesis: individual intuitively neutral words will return low scores, even if they appear frequently in the the dictionaries for words that are labeled toxic. Curse words will still yield a high toxcicity score. Neutral words used with curse words will still yield a high score, because the Perspective API seems to be trained off of context and n-grams rather than individual words. To test this, set of words and phrases will be created out of the `score_dict` and `toxic_dict`.\n",
    "\n",
    "As a note, the toxicity that the query returns may not be consistent with the labeling for several reasons. There may indeed be bias, or there might be additional context within the word being queried missed that makes it appear frequently in comments labeled as toxic.\n",
    "\n",
    "\n",
    "The following code segments for querying the API are from the class template."
   ]
  },
  {
   "cell_type": "code",
   "execution_count": 37,
   "metadata": {},
   "outputs": [],
   "source": [
    "from googleapiclient.discovery import build\n",
    "import json\n",
    "\n",
    "def get_toxicity_score(comment):\n",
    "    \n",
    "  API_KEY = '' # Put your API key here\n",
    "    \n",
    "  client = build(\n",
    "  \"commentanalyzer\",\n",
    "  \"v1alpha1\",\n",
    "  developerKey=API_KEY,\n",
    "  discoveryServiceUrl=\"https://commentanalyzer.googleapis.com/$discovery/rest?version=v1alpha1\",\n",
    "  static_discovery=False,\n",
    "  )\n",
    "\n",
    "  analyze_request = {\n",
    "  'comment': { 'text': comment },\n",
    "  'requestedAttributes': {'TOXICITY': {}}\n",
    "  }\n",
    "    \n",
    "  response = client.comments().analyze(body=analyze_request).execute()\n",
    "  toxicity_score = response[\"attributeScores\"][\"TOXICITY\"][\"summaryScore\"][\"value\"]\n",
    "    \n",
    "  return toxicity_score"
   ]
  },
  {
   "cell_type": "code",
   "execution_count": 38,
   "metadata": {},
   "outputs": [
    {
     "data": {
      "text/plain": [
       "0.0723261"
      ]
     },
     "execution_count": 38,
     "metadata": {},
     "output_type": "execute_result"
    }
   ],
   "source": [
    "get_toxicity_score(\"article\")"
   ]
  },
  {
   "cell_type": "code",
   "execution_count": 44,
   "metadata": {},
   "outputs": [
    {
     "name": "stdout",
     "output_type": "stream",
     "text": [
      "article 0.07232613\n",
      "You 0.079551965\n",
      "The people know 0.06121505\n",
      "authority 0.04766297\n",
      "follow authority 0.025004705\n",
      "metal 0.09158879\n",
      "nonsense 0.3465714\n",
      "homosexual 0.64240694\n",
      "fuck 0.9671429\n",
      "fuck you 0.9897058\n",
      "like 0.02861636\n",
      "page 0.07765976\n",
      "jerk 0.9217174\n",
      "stupid 0.9147037\n",
      "dumb 0.8454821\n"
     ]
    }
   ],
   "source": [
    "query_list = ['article', 'You', 'The people know', 'authority', 'follow authority', 'metal', 'nonsense','homosexual', 'fuck', 'fuck you', 'like', 'page', 'jerk', 'stupid', 'dumb']\n",
    "for comment in query_list:\n",
    "    score = get_toxicity_score(comment)\n",
    "    print(comment, score)\n",
    "    time.sleep(1)"
   ]
  },
  {
   "cell_type": "markdown",
   "metadata": {},
   "source": [
    "### Analysis\n",
    "\n",
    "The tested words contain some neutral words and phrases as well as some profanity and more polarizing language. Individual curse words still yielded a high score, as expected. Individually neutral words yielded a low score, but when they were used with curse words in phrases, they returned a high score. This informs an understanding of the Perspective API because it indicates how the training considers the message as a whole rather than just looking at each individual word's sentiment.\n",
    "\n",
    "A particularly interesting query is the \"article\" query. It returns a very low score, but it is one of the most used words in the dictionary with comments of scores over >0.5. This indicates that the word \"article\" is often used with toxic words, which drives its appearances with high score comments up even if the word itself is rather neutral. This makes intuitive sense in terms of the Perspective API. Because it is looking at Wikipedia articles, phrases such as \"dumb article\" will indicate toxicity particularly because the word dumb pushes the score for the phrase up.\n",
    "\n",
    "A potential source of bias within the labeling of the articles can be seen with the discussion of sample size previously. Although many comments may fit into multiple categories of toxic/obscene/insult, the labeling seems to be most common in particular categories. Furthermore, the `severe_toxic` column is even more subjective than the rest of the column names, because it is up to a certain amount of discretion as to whether a toxic comment crosses the threshold into severely toxic. \n",
    "\n",
    "Another interesting discussion can be where words are labeled toxic even though they are not considered profanity. For example, the word \"homosexual\" has a relatively high score even though it is not in and of itself a toxic word. Rather, it becomes considered toxic through Perspective learning that the word \"homosexual\" is being used as an insult. This indicates that Perspective is able to identify whether ot not particular words are being used in a toxic manner, even if their base sentiment is not initially toxic. Again, this fits into the initial theory that the natural language processing used within Perspective considers the full context surrounding a particular word or phrase. \n",
    "\n",
    "Further research may involve how the perspective toxicity compares to other forms of sentiment analysis (i.e. the NLTK word net and VADER analyzer). Analysis can be done on discrepancies behind the polarity in other sentiment analysis in comparison to Perspective's. "
   ]
  },
  {
   "cell_type": "markdown",
   "metadata": {},
   "source": []
  }
 ],
 "metadata": {
  "interpreter": {
   "hash": "54e72497fd64358f52832107e3cdfaf9f975ee2964d8f26ed128ba56fc24de73"
  },
  "kernelspec": {
   "display_name": "Python 3.8.8 ('base')",
   "language": "python",
   "name": "python3"
  },
  "language_info": {
   "codemirror_mode": {
    "name": "ipython",
    "version": 3
   },
   "file_extension": ".py",
   "mimetype": "text/x-python",
   "name": "python",
   "nbconvert_exporter": "python",
   "pygments_lexer": "ipython3",
   "version": "3.8.8"
  },
  "orig_nbformat": 4
 },
 "nbformat": 4,
 "nbformat_minor": 2
}
